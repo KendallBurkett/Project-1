{
 "cells": [
  {
   "cell_type": "code",
   "execution_count": null,
   "metadata": {},
   "outputs": [],
   "source": [
    "import pandas as pd\n",
    "import requests\n",
    "import matplotlib.pyplot as plt\n",
    "from config import API_KEY\n",
    "\n"
   ]
  },
  {
   "cell_type": "code",
   "execution_count": null,
   "metadata": {},
   "outputs": [],
   "source": [
    "# Function to fetch data from Nasdaq API\n",
    "def fetch_stock_data(symbol, api_key):\n",
    "    url = f\"https://data.nasdaq.com/api/v3/datasets/WIKI/{symbol}.json\"\n",
    "    params = {\n",
    "        'api_key': api_key\n",
    "    }\n",
    "    response = requests.get(url, params=params)\n",
    "    data = response.json()\n",
    "    return pd.DataFrame(data['dataset']['data'], columns=data['dataset']['column_names'])\n",
    "\n",
    "# Fetch data for AT&T, T-Mobile, and Verizon\n",
    "symbols = {\n",
    "    'AT&T': 'T',\n",
    "    'T-Mobile': 'TMUS',\n",
    "    'Verizon': 'VZ'\n",
    "}\n",
    "\n",
    "stock_data = {}\n",
    "for company, symbol in symbols.items():\n",
    "    stock_data[company] = fetch_stock_data(symbol, API_KEY)\n",
    "\n",
    "# Combine the data into a single DataFrame for analysis\n",
    "combined_data = pd.concat(stock_data.values(), keys=stock_data.keys())\n",
    "combined_data.reset_index(level=0, inplace=True)\n",
    "combined_data.rename(columns={'level_0': 'Company'}, inplace=True)\n",
    "\n",
    "# Save the combined data to a CSV file for further analysis\n",
    "combined_data.to_csv('combined_data.csv', index=False)\n",
    "\n",
    "# Display the combined data to verify\n",
    "combined_data.head()"
   ]
  },
  {
   "cell_type": "code",
   "execution_count": null,
   "metadata": {},
   "outputs": [],
   "source": [
    "# Convert the Date column to datetime format\n",
    "combined_data['Date'] = pd.to_datetime(combined_data['Date'])\n",
    "\n",
    "# Sort the data by Company and Date\n",
    "combined_data.sort_values(by=['Company', 'Date'], inplace=True)\n",
    "\n",
    "# Handle missing values (if any)\n",
    "combined_data.fillna(method='ffill', inplace=True)\n",
    "combined_data.fillna(method='bfill', inplace=True)\n",
    "\n",
    "# Verify the cleaned data\n",
    "combined_data.head()"
   ]
  },
  {
   "cell_type": "code",
   "execution_count": null,
   "metadata": {},
   "outputs": [],
   "source": [
    "# Filter the data to include only dates from 2015-01-01 to 2017-12-12\n",
    "start_date = pd.Timestamp('2017-01-01')\n",
    "end_date = pd.Timestamp('2017-12-12')\n",
    "filtered_data = combined_data[(combined_data['Date'] >= start_date) & (combined_data['Date'] <= end_date)]"
   ]
  }
 ],
 "metadata": {
  "language_info": {
   "name": "python"
  }
 },
 "nbformat": 4,
 "nbformat_minor": 2
}
